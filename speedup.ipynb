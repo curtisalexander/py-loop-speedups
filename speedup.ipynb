{
 "cells": [
  {
   "cell_type": "markdown",
   "metadata": {},
   "source": [
    "### Imports\n",
    "First, make sure the following packages are installed per the [pandas documentation](https://pandas.pydata.org/docs/getting_started/install.html#install-recommended-dependencies):\n",
    "- `bottleneck`\n",
    "- `numexpr`"
   ]
  },
  {
   "cell_type": "code",
   "execution_count": 1,
   "metadata": {},
   "outputs": [],
   "source": [
    "# standard lib\n",
    "import functools\n",
    "\n",
    "# third party\n",
    "import numpy as np\n",
    "import pandas as pd"
   ]
  },
  {
   "cell_type": "markdown",
   "metadata": {},
   "source": [
    "### Create a random dataframe\n",
    "The # of rows in the dataframe can be adjusted"
   ]
  },
  {
   "cell_type": "code",
   "execution_count": 2,
   "metadata": {},
   "outputs": [],
   "source": [
    "df_rows = 1000\n",
    "\n",
    "# equivalent to setting seed\n",
    "rng = np.random.default_rng(3737)\n",
    "\n",
    "df = pd.DataFrame({\n",
    "    \"var1\": rng.integers(1, 100, df_rows),\n",
    "    \"var2\": rng.integers(1, 100, df_rows),\n",
    "    \"var3\": rng.integers(1, 100, df_rows),\n",
    "    \"total\": rng.integers(101, 200, df_rows)\n",
    "})"
   ]
  },
  {
   "cell_type": "code",
   "execution_count": 3,
   "metadata": {},
   "outputs": [
    {
     "data": {
      "text/html": [
       "<div>\n",
       "<style scoped>\n",
       "    .dataframe tbody tr th:only-of-type {\n",
       "        vertical-align: middle;\n",
       "    }\n",
       "\n",
       "    .dataframe tbody tr th {\n",
       "        vertical-align: top;\n",
       "    }\n",
       "\n",
       "    .dataframe thead th {\n",
       "        text-align: right;\n",
       "    }\n",
       "</style>\n",
       "<table border=\"1\" class=\"dataframe\">\n",
       "  <thead>\n",
       "    <tr style=\"text-align: right;\">\n",
       "      <th></th>\n",
       "      <th>var1</th>\n",
       "      <th>var2</th>\n",
       "      <th>var3</th>\n",
       "      <th>total</th>\n",
       "    </tr>\n",
       "  </thead>\n",
       "  <tbody>\n",
       "    <tr>\n",
       "      <th>0</th>\n",
       "      <td>28</td>\n",
       "      <td>64</td>\n",
       "      <td>43</td>\n",
       "      <td>114</td>\n",
       "    </tr>\n",
       "    <tr>\n",
       "      <th>1</th>\n",
       "      <td>84</td>\n",
       "      <td>74</td>\n",
       "      <td>9</td>\n",
       "      <td>153</td>\n",
       "    </tr>\n",
       "    <tr>\n",
       "      <th>2</th>\n",
       "      <td>27</td>\n",
       "      <td>59</td>\n",
       "      <td>35</td>\n",
       "      <td>144</td>\n",
       "    </tr>\n",
       "    <tr>\n",
       "      <th>3</th>\n",
       "      <td>46</td>\n",
       "      <td>26</td>\n",
       "      <td>74</td>\n",
       "      <td>151</td>\n",
       "    </tr>\n",
       "    <tr>\n",
       "      <th>4</th>\n",
       "      <td>94</td>\n",
       "      <td>90</td>\n",
       "      <td>63</td>\n",
       "      <td>185</td>\n",
       "    </tr>\n",
       "  </tbody>\n",
       "</table>\n",
       "</div>"
      ],
      "text/plain": [
       "   var1  var2  var3  total\n",
       "0    28    64    43    114\n",
       "1    84    74     9    153\n",
       "2    27    59    35    144\n",
       "3    46    26    74    151\n",
       "4    94    90    63    185"
      ]
     },
     "execution_count": 3,
     "metadata": {},
     "output_type": "execute_result"
    }
   ],
   "source": [
    "df.head()"
   ]
  },
  {
   "cell_type": "markdown",
   "metadata": {},
   "source": [
    "### Timing\n",
    "Dictionary to store timing"
   ]
  },
  {
   "cell_type": "code",
   "execution_count": 4,
   "metadata": {},
   "outputs": [],
   "source": [
    "timing = dict()"
   ]
  },
  {
   "cell_type": "markdown",
   "metadata": {},
   "source": [
    "### Base\n",
    "Base case with just simple `for` loops"
   ]
  },
  {
   "cell_type": "code",
   "execution_count": 5,
   "metadata": {},
   "outputs": [
    {
     "name": "stdout",
     "output_type": "stream",
     "text": [
      "6.67 s ± 219 ms per loop (mean ± std. dev. of 7 runs, 1 loop each)\n"
     ]
    },
    {
     "data": {
      "text/plain": [
       "<TimeitResult : 6.67 s ± 219 ms per loop (mean ± std. dev. of 7 runs, 1 loop each)>"
      ]
     },
     "execution_count": 5,
     "metadata": {},
     "output_type": "execute_result"
    }
   ],
   "source": [
    "%%timeit -o\n",
    "sum_list=[]\n",
    "\n",
    "for i in range(1, 100, 5):\n",
    "    for j in range(1, 100, 5):\n",
    "        for k in range(1, 100, 5):\n",
    "            df_temp = df[(df[\"var1\"] >= i) & (df[\"var2\"] >= j) & (df[\"var3\"] >= k)]\n",
    "            sum_list.append(df_temp[\"total\"].sum())"
   ]
  },
  {
   "cell_type": "code",
   "execution_count": 6,
   "metadata": {},
   "outputs": [],
   "source": [
    "timing.update({\"base\": _})"
   ]
  },
  {
   "cell_type": "markdown",
   "metadata": {},
   "source": [
    "### Base - no intermediate dataframe\n",
    "Do not create an intermediate dataframe\n"
   ]
  },
  {
   "cell_type": "code",
   "execution_count": 7,
   "metadata": {},
   "outputs": [
    {
     "name": "stdout",
     "output_type": "stream",
     "text": [
      "6.45 s ± 371 ms per loop (mean ± std. dev. of 7 runs, 1 loop each)\n"
     ]
    },
    {
     "data": {
      "text/plain": [
       "<TimeitResult : 6.45 s ± 371 ms per loop (mean ± std. dev. of 7 runs, 1 loop each)>"
      ]
     },
     "execution_count": 7,
     "metadata": {},
     "output_type": "execute_result"
    }
   ],
   "source": [
    "%%timeit -o\n",
    "sum_list=[]\n",
    "\n",
    "for i in range(1, 100, 5):\n",
    "    for j in range(1, 100, 5):\n",
    "        for k in range(1, 100, 5):\n",
    "            sum_list.append(df[(df[\"var1\"] >= i) & (df[\"var2\"] >= j) & (df[\"var3\"] >= k)][\"total\"].sum())"
   ]
  },
  {
   "cell_type": "code",
   "execution_count": 8,
   "metadata": {},
   "outputs": [],
   "source": [
    "timing.update({\"base_no_int_df\": _})"
   ]
  },
  {
   "cell_type": "markdown",
   "metadata": {},
   "source": [
    "### numpy with `where`\n",
    "Utilize `where` and numpy (utilizing numpy vectorizes operations)"
   ]
  },
  {
   "cell_type": "code",
   "execution_count": 9,
   "metadata": {},
   "outputs": [
    {
     "name": "stdout",
     "output_type": "stream",
     "text": [
      "4.37 s ± 22.8 ms per loop (mean ± std. dev. of 7 runs, 1 loop each)\n"
     ]
    },
    {
     "data": {
      "text/plain": [
       "<TimeitResult : 4.37 s ± 22.8 ms per loop (mean ± std. dev. of 7 runs, 1 loop each)>"
      ]
     },
     "execution_count": 9,
     "metadata": {},
     "output_type": "execute_result"
    }
   ],
   "source": [
    "%%timeit -o\n",
    "sum_list=[]\n",
    "\n",
    "for i in range(1, 100, 5):\n",
    "    for j in range(1, 100, 5):\n",
    "        for k in range(1, 100, 5):\n",
    "            sum_list.append(\n",
    "                np.sum(\n",
    "                    (np.where(df[\"var1\"] >= i, 1, 0) & np.where(df[\"var2\"] >= j, 1, 0) & np.where(df[\"var3\"] >= k, 1, 0)) * df[\"total\"]\n",
    "                )\n",
    "            )"
   ]
  },
  {
   "cell_type": "code",
   "execution_count": 10,
   "metadata": {},
   "outputs": [],
   "source": [
    "timing.update({\"np_where\": _})"
   ]
  },
  {
   "cell_type": "markdown",
   "metadata": {},
   "source": [
    "### numpy with `where` and `to_numpy`\n",
    "Utilize `where` and numpy but convert cols to `numpy` arrays first"
   ]
  },
  {
   "cell_type": "code",
   "execution_count": 11,
   "metadata": {},
   "outputs": [
    {
     "name": "stdout",
     "output_type": "stream",
     "text": [
      "299 ms ± 33.7 ms per loop (mean ± std. dev. of 7 runs, 1 loop each)\n"
     ]
    },
    {
     "data": {
      "text/plain": [
       "<TimeitResult : 299 ms ± 33.7 ms per loop (mean ± std. dev. of 7 runs, 1 loop each)>"
      ]
     },
     "execution_count": 11,
     "metadata": {},
     "output_type": "execute_result"
    }
   ],
   "source": [
    "%%timeit -o\n",
    "sum_list=[]\n",
    "\n",
    "var1_array = df[\"var1\"].to_numpy()\n",
    "var2_array = df[\"var2\"].to_numpy()\n",
    "var3_array = df[\"var3\"].to_numpy()\n",
    "total_array = df[\"total\"].to_numpy()\n",
    "\n",
    "for i in range(1, 100, 5):\n",
    "    for j in range(1, 100, 5):\n",
    "        for k in range(1, 100, 5):\n",
    "            sum_list.append(\n",
    "                np.sum(\n",
    "                    (np.where(var1_array >= i, 1, 0) & np.where(var2_array >= j, 1, 0) & np.where(var3_array >= k, 1, 0)) * total_array\n",
    "                )\n",
    "            )"
   ]
  },
  {
   "cell_type": "code",
   "execution_count": 12,
   "metadata": {},
   "outputs": [],
   "source": [
    "timing.update({\"np_where_to_numpy\": _})"
   ]
  },
  {
   "cell_type": "markdown",
   "metadata": {},
   "source": [
    "### Cache function\n",
    "Utilize function caching (and partial application)"
   ]
  },
  {
   "cell_type": "code",
   "execution_count": 13,
   "metadata": {},
   "outputs": [
    {
     "name": "stdout",
     "output_type": "stream",
     "text": [
      "279 ms ± 1.7 ms per loop (mean ± std. dev. of 7 runs, 1 loop each)\n"
     ]
    },
    {
     "data": {
      "text/plain": [
       "<TimeitResult : 279 ms ± 1.7 ms per loop (mean ± std. dev. of 7 runs, 1 loop each)>"
      ]
     },
     "execution_count": 13,
     "metadata": {},
     "output_type": "execute_result"
    }
   ],
   "source": [
    "%%timeit -o\n",
    "\n",
    "var1_array = df[\"var1\"].to_numpy()\n",
    "var2_array = df[\"var2\"].to_numpy()\n",
    "var3_array = df[\"var3\"].to_numpy()\n",
    "total_array = df[\"total\"].to_numpy()\n",
    "\n",
    "def filter_and_mult_total(a1, a2, a3, at, i, j, k):\n",
    "    return np.sum((np.where(a1 >= i, 1, 0) & np.where(a2 >= j, 1, 0) & np.where(a3 >= k, 1, 0)) * at)\n",
    "\n",
    "# partial application\n",
    "# necessary as ndarrays are not hashable\n",
    "filter_and_mult_total_partial = functools.partial(filter_and_mult_total, var1_array, var2_array, var3_array, total_array)\n",
    "\n",
    "# cache\n",
    "@functools.cache\n",
    "def filter_and_mult_total_cache(i, j, k):\n",
    "    filter_and_mult_total_partial(i, j, k)\n",
    "\n",
    "sum_list=[]\n",
    "\n",
    "for i in range(1, 100, 5):\n",
    "    for j in range(1, 100, 5):\n",
    "        for k in range(1, 100, 5):\n",
    "            sum_list.append(filter_and_mult_total_partial(i, j, k))"
   ]
  },
  {
   "cell_type": "code",
   "execution_count": 14,
   "metadata": {},
   "outputs": [],
   "source": [
    "timing.update({\"cache_func\": _})"
   ]
  },
  {
   "cell_type": "markdown",
   "metadata": {},
   "source": [
    "### Cache results of `where` statements\n",
    "Cache results of `where` statements rather than caching the function call\n",
    "\n",
    "Basically a form of [dynamic programming](https://en.wikipedia.org/wiki/Dynamic_programming) where we save intermediate results and just look them up if they already exist; Python dictionary lookups are fast"
   ]
  },
  {
   "cell_type": "code",
   "execution_count": 15,
   "metadata": {},
   "outputs": [
    {
     "name": "stdout",
     "output_type": "stream",
     "text": [
      "184 ms ± 14.7 ms per loop (mean ± std. dev. of 7 runs, 1 loop each)\n"
     ]
    },
    {
     "data": {
      "text/plain": [
       "<TimeitResult : 184 ms ± 14.7 ms per loop (mean ± std. dev. of 7 runs, 1 loop each)>"
      ]
     },
     "execution_count": 15,
     "metadata": {},
     "output_type": "execute_result"
    }
   ],
   "source": [
    "%%timeit -o\n",
    "sum_list=[]\n",
    "\n",
    "var1_array = df[\"var1\"].to_numpy()\n",
    "var2_array = df[\"var2\"].to_numpy()\n",
    "var3_array = df[\"var3\"].to_numpy()\n",
    "total_array = df[\"total\"].to_numpy()\n",
    "\n",
    "i_dict = dict()\n",
    "j_dict = dict()\n",
    "k_dict = dict()\n",
    "\n",
    "for i in range(1, 100, 5):\n",
    "    # not technically caching but no need to recalculate if i is not changing\n",
    "    # setdefault returns...\n",
    "    #   - if key exists, return value\n",
    "    #   - if key does not exist, add to dictionary, and then return the 2nd argument\n",
    "    i_result = i_dict.setdefault(i, np.where(var1_array >= i, 1, 0))\n",
    "    for j in range(1, 100, 5):\n",
    "        j_result = j_dict.setdefault(j, np.where(var2_array >= j, 1, 0))\n",
    "        for k in range(1, 100, 5):\n",
    "            k_result = k_dict.setdefault(k, np.where(var3_array >= k, 1, 0))\n",
    "            sum_list.append(\n",
    "                np.sum(\n",
    "                    (i_result & j_result & k_result) * total_array\n",
    "                )\n",
    "            )"
   ]
  },
  {
   "cell_type": "code",
   "execution_count": 16,
   "metadata": {},
   "outputs": [],
   "source": [
    "timing.update({\"cache_where\": _})"
   ]
  },
  {
   "cell_type": "markdown",
   "metadata": {},
   "source": [
    "### Cache results of `where` statements and precreate lookup dict\n",
    "Cache results of `where` statements\n",
    "\n",
    "Basically a form of [dynamic programming](https://en.wikipedia.org/wiki/Dynamic_programming) where we save intermediate results and just look them up if they already exist\n",
    "\n",
    "Create full dicts and only perform lookup in the `for` loops rather than using `setdefault`"
   ]
  },
  {
   "cell_type": "code",
   "execution_count": 17,
   "metadata": {},
   "outputs": [
    {
     "name": "stdout",
     "output_type": "stream",
     "text": [
      "103 ms ± 1.34 ms per loop (mean ± std. dev. of 7 runs, 10 loops each)\n"
     ]
    },
    {
     "data": {
      "text/plain": [
       "<TimeitResult : 103 ms ± 1.34 ms per loop (mean ± std. dev. of 7 runs, 10 loops each)>"
      ]
     },
     "execution_count": 17,
     "metadata": {},
     "output_type": "execute_result"
    }
   ],
   "source": [
    "%%timeit -o\n",
    "sum_list=[]\n",
    "\n",
    "var1_array = df[\"var1\"].to_numpy()\n",
    "var2_array = df[\"var2\"].to_numpy()\n",
    "var3_array = df[\"var3\"].to_numpy()\n",
    "total_array = df[\"total\"].to_numpy()\n",
    "\n",
    "i_dict = {i: np.where(var1_array >= i, 1, 0) for i in range(1, 100, 5)}\n",
    "j_dict = {j: np.where(var2_array >= j, 1, 0) for j in range(1, 100, 5)}\n",
    "k_dict = {k: np.where(var3_array >= k, 1, 0) for k in range(1, 100, 5)}\n",
    "\n",
    "for i in range(1, 100, 5):\n",
    "    # not technically caching but no need to recalculate if i is not changing\n",
    "    i_result = i_dict.get(i)\n",
    "    for j in range(1, 100, 5):\n",
    "        j_result = j_dict.get(j)\n",
    "        for k in range(1, 100, 5):\n",
    "            k_result = k_dict.get(k)\n",
    "            sum_list.append(\n",
    "                np.sum(\n",
    "                    (i_result & j_result & k_result) * total_array\n",
    "                )\n",
    "            )"
   ]
  },
  {
   "cell_type": "code",
   "execution_count": 18,
   "metadata": {},
   "outputs": [],
   "source": [
    "timing.update({\"cache_where_precreate_dict\": _})"
   ]
  },
  {
   "cell_type": "markdown",
   "metadata": {},
   "source": [
    "### Speedup\n",
    "What is the final speedup?"
   ]
  },
  {
   "cell_type": "code",
   "execution_count": 19,
   "metadata": {},
   "outputs": [
    {
     "name": "stdout",
     "output_type": "stream",
     "text": [
      "base\n",
      "____\n",
      "avg.  speed up over base: 1.00 x\n",
      "worst speed up over base: 1.00 x\n",
      "best  speed up over base: 1.00 x\n",
      "\n",
      "base_no_int_df\n",
      "______________\n",
      "avg.  speed up over base: 1.04 x\n",
      "worst speed up over base: 1.00 x\n",
      "best  speed up over base: 1.07 x\n",
      "\n",
      "np_where\n",
      "________\n",
      "avg.  speed up over base: 1.53 x\n",
      "worst speed up over base: 1.59 x\n",
      "best  speed up over base: 1.46 x\n",
      "\n",
      "np_where_to_numpy\n",
      "_________________\n",
      "avg.  speed up over base: 22.32 x\n",
      "worst speed up over base: 18.87 x\n",
      "best  speed up over base: 23.00 x\n",
      "\n",
      "cache_func\n",
      "__________\n",
      "avg.  speed up over base: 23.88 x\n",
      "worst speed up over base: 24.73 x\n",
      "best  speed up over base: 22.80 x\n",
      "\n",
      "cache_where\n",
      "___________\n",
      "avg.  speed up over base: 36.23 x\n",
      "worst speed up over base: 32.20 x\n",
      "best  speed up over base: 37.02 x\n",
      "\n",
      "cache_where_precreate_dict\n",
      "__________________________\n",
      "avg.  speed up over base: 64.64 x\n",
      "worst speed up over base: 65.85 x\n",
      "best  speed up over base: 62.20 x\n",
      "\n"
     ]
    }
   ],
   "source": [
    "# speedup over base case\n",
    "for k,v in timing.items():\n",
    "    print(f\"{k}\\n{'_'*len(k)}\")\n",
    "    print(f\"avg.  speed up over base: {timing.get('base').average/timing.get(k).average:.2f} x\")\n",
    "    print(f\"worst speed up over base: {timing.get('base').worst/timing.get(k).worst:.2f} x\")\n",
    "    print(f\"best  speed up over base: {timing.get('base').best/timing.get(k).best:.2f} x\\n\")"
   ]
  }
 ],
 "metadata": {
  "interpreter": {
   "hash": "522a0589062f43eaa7ca608f0b27d94d4fc4f3124d5d7019eb3dbd7f9e31bd5a"
  },
  "kernelspec": {
   "display_name": "Python 3.10.4",
   "language": "python",
   "name": "python3"
  },
  "language_info": {
   "codemirror_mode": {
    "name": "ipython",
    "version": 3
   },
   "file_extension": ".py",
   "mimetype": "text/x-python",
   "name": "python",
   "nbconvert_exporter": "python",
   "pygments_lexer": "ipython3",
   "version": "3.10.4"
  },
  "orig_nbformat": 4
 },
 "nbformat": 4,
 "nbformat_minor": 2
}
