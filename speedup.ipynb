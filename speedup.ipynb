{
 "cells": [
  {
   "cell_type": "markdown",
   "metadata": {},
   "source": [
    "### Imports\n",
    "First, make sure the following packages are installed per the [pandas documentation](https://pandas.pydata.org/docs/getting_started/install.html#install-recommended-dependencies):\n",
    "- `bottleneck`\n",
    "- `numexpr`"
   ]
  },
  {
   "cell_type": "code",
   "execution_count": 1,
   "metadata": {},
   "outputs": [],
   "source": [
    "# standard lib\n",
    "import functools\n",
    "\n",
    "# third party\n",
    "import numpy as np\n",
    "import pandas as pd"
   ]
  },
  {
   "cell_type": "code",
   "execution_count": 2,
   "metadata": {},
   "outputs": [],
   "source": [
    "df_rows = 1000\n",
    "\n",
    "df = pd.DataFrame({\n",
    "    \"var1\": np.random.randint(1, 100, df_rows),\n",
    "    \"var2\": np.random.randint(1, 100, df_rows),\n",
    "    \"var3\": np.random.randint(1, 100, df_rows),\n",
    "    \"total\": np.random.randint(101, 200, df_rows)\n",
    "})"
   ]
  },
  {
   "cell_type": "code",
   "execution_count": 3,
   "metadata": {},
   "outputs": [
    {
     "data": {
      "text/html": [
       "<div>\n",
       "<style scoped>\n",
       "    .dataframe tbody tr th:only-of-type {\n",
       "        vertical-align: middle;\n",
       "    }\n",
       "\n",
       "    .dataframe tbody tr th {\n",
       "        vertical-align: top;\n",
       "    }\n",
       "\n",
       "    .dataframe thead th {\n",
       "        text-align: right;\n",
       "    }\n",
       "</style>\n",
       "<table border=\"1\" class=\"dataframe\">\n",
       "  <thead>\n",
       "    <tr style=\"text-align: right;\">\n",
       "      <th></th>\n",
       "      <th>var1</th>\n",
       "      <th>var2</th>\n",
       "      <th>var3</th>\n",
       "      <th>total</th>\n",
       "    </tr>\n",
       "  </thead>\n",
       "  <tbody>\n",
       "    <tr>\n",
       "      <th>0</th>\n",
       "      <td>82</td>\n",
       "      <td>13</td>\n",
       "      <td>63</td>\n",
       "      <td>194</td>\n",
       "    </tr>\n",
       "    <tr>\n",
       "      <th>1</th>\n",
       "      <td>9</td>\n",
       "      <td>64</td>\n",
       "      <td>84</td>\n",
       "      <td>133</td>\n",
       "    </tr>\n",
       "    <tr>\n",
       "      <th>2</th>\n",
       "      <td>90</td>\n",
       "      <td>81</td>\n",
       "      <td>80</td>\n",
       "      <td>133</td>\n",
       "    </tr>\n",
       "    <tr>\n",
       "      <th>3</th>\n",
       "      <td>64</td>\n",
       "      <td>16</td>\n",
       "      <td>16</td>\n",
       "      <td>132</td>\n",
       "    </tr>\n",
       "    <tr>\n",
       "      <th>4</th>\n",
       "      <td>88</td>\n",
       "      <td>12</td>\n",
       "      <td>51</td>\n",
       "      <td>115</td>\n",
       "    </tr>\n",
       "  </tbody>\n",
       "</table>\n",
       "</div>"
      ],
      "text/plain": [
       "   var1  var2  var3  total\n",
       "0    82    13    63    194\n",
       "1     9    64    84    133\n",
       "2    90    81    80    133\n",
       "3    64    16    16    132\n",
       "4    88    12    51    115"
      ]
     },
     "execution_count": 3,
     "metadata": {},
     "output_type": "execute_result"
    }
   ],
   "source": [
    "df.head()"
   ]
  },
  {
   "cell_type": "markdown",
   "metadata": {},
   "source": [
    "### Base\n",
    "Base case with just simple `for` loops"
   ]
  },
  {
   "cell_type": "code",
   "execution_count": 4,
   "metadata": {},
   "outputs": [
    {
     "name": "stdout",
     "output_type": "stream",
     "text": [
      "sum_list total is 169511126\n",
      "sum_list total is 169511126\n",
      "sum_list total is 169511126\n",
      "sum_list total is 169511126\n",
      "sum_list total is 169511126\n",
      "sum_list total is 169511126\n",
      "sum_list total is 169511126\n",
      "sum_list total is 169511126\n",
      "6.44 s ± 159 ms per loop (mean ± std. dev. of 7 runs, 1 loop each)\n"
     ]
    }
   ],
   "source": [
    "%%timeit\n",
    "sum_list=[]\n",
    "\n",
    "for i in range(1, 100, 5):\n",
    "    for j in range(1, 100, 5):\n",
    "        for k in range(1, 100, 5):\n",
    "            df_temp = df[(df[\"var1\"] >= i) & (df[\"var2\"] >= j) & (df[\"var3\"] >= k)]\n",
    "            sum_list.append(df_temp[\"total\"].sum())\n",
    "\n",
    "print(f\"sum_list total is {sum(sum_list)}\")"
   ]
  },
  {
   "cell_type": "markdown",
   "metadata": {},
   "source": [
    "### Base - no intermediate dataframe\n",
    "Do not create an intermediate dataframe\n"
   ]
  },
  {
   "cell_type": "code",
   "execution_count": 5,
   "metadata": {},
   "outputs": [
    {
     "name": "stdout",
     "output_type": "stream",
     "text": [
      "sum_list total is 169511126\n",
      "sum_list total is 169511126\n",
      "sum_list total is 169511126\n",
      "sum_list total is 169511126\n",
      "sum_list total is 169511126\n",
      "sum_list total is 169511126\n",
      "sum_list total is 169511126\n",
      "sum_list total is 169511126\n",
      "6.36 s ± 428 ms per loop (mean ± std. dev. of 7 runs, 1 loop each)\n"
     ]
    }
   ],
   "source": [
    "%%timeit\n",
    "sum_list=[]\n",
    "\n",
    "for i in range(1, 100, 5):\n",
    "    for j in range(1, 100, 5):\n",
    "        for k in range(1, 100, 5):\n",
    "            sum_list.append(df[(df[\"var1\"] >= i) & (df[\"var2\"] >= j) & (df[\"var3\"] >= k)][\"total\"].sum())\n",
    "\n",
    "print(f\"sum_list total is {sum(sum_list)}\")"
   ]
  },
  {
   "cell_type": "markdown",
   "metadata": {},
   "source": [
    "### numpy with `where`\n",
    "Utilize `where` and numpy"
   ]
  },
  {
   "cell_type": "code",
   "execution_count": 6,
   "metadata": {},
   "outputs": [
    {
     "name": "stdout",
     "output_type": "stream",
     "text": [
      "sum_list total is 169511126\n",
      "sum_list total is 169511126\n",
      "sum_list total is 169511126\n",
      "sum_list total is 169511126\n",
      "sum_list total is 169511126\n",
      "sum_list total is 169511126\n",
      "sum_list total is 169511126\n",
      "sum_list total is 169511126\n",
      "4.75 s ± 216 ms per loop (mean ± std. dev. of 7 runs, 1 loop each)\n"
     ]
    }
   ],
   "source": [
    "%%timeit\n",
    "sum_list=[]\n",
    "\n",
    "for i in range(1, 100, 5):\n",
    "    for j in range(1, 100, 5):\n",
    "        for k in range(1, 100, 5):\n",
    "            sum_list.append(\n",
    "                np.sum(\n",
    "                    (np.where(df[\"var1\"] >= i, 1, 0) & np.where(df[\"var2\"] >= j, 1, 0) & np.where(df[\"var3\"] >= k, 1, 0)) * df[\"total\"]\n",
    "                )\n",
    "            )\n",
    "\n",
    "print(f\"sum_list total is {sum(sum_list)}\")"
   ]
  },
  {
   "cell_type": "markdown",
   "metadata": {},
   "source": [
    "### numpy with `where` and `to_numpy`\n",
    "Utilize `where` and numpy but convert cols to `numpy` arrays first"
   ]
  },
  {
   "cell_type": "code",
   "execution_count": 7,
   "metadata": {},
   "outputs": [
    {
     "name": "stdout",
     "output_type": "stream",
     "text": [
      "sum_list total is 169511126\n",
      "sum_list total is 169511126\n",
      "sum_list total is 169511126\n",
      "sum_list total is 169511126\n",
      "sum_list total is 169511126\n",
      "sum_list total is 169511126\n",
      "sum_list total is 169511126\n",
      "sum_list total is 169511126\n",
      "284 ms ± 8.66 ms per loop (mean ± std. dev. of 7 runs, 1 loop each)\n"
     ]
    }
   ],
   "source": [
    "%%timeit\n",
    "sum_list=[]\n",
    "\n",
    "var1_array = df[\"var1\"].to_numpy()\n",
    "var2_array = df[\"var2\"].to_numpy()\n",
    "var3_array = df[\"var3\"].to_numpy()\n",
    "total_array = df[\"total\"].to_numpy()\n",
    "\n",
    "for i in range(1, 100, 5):\n",
    "    for j in range(1, 100, 5):\n",
    "        for k in range(1, 100, 5):\n",
    "            sum_list.append(\n",
    "                np.sum(\n",
    "                    (np.where(var1_array >= i, 1, 0) & np.where(var2_array >= j, 1, 0) & np.where(var3_array >= k, 1, 0)) * total_array\n",
    "                )\n",
    "            )\n",
    "\n",
    "print(f\"sum_list total is {sum(sum_list)}\")"
   ]
  },
  {
   "cell_type": "markdown",
   "metadata": {},
   "source": [
    "### Cache function\n",
    "Utilize function caching (and partial application)"
   ]
  },
  {
   "cell_type": "code",
   "execution_count": 8,
   "metadata": {},
   "outputs": [
    {
     "name": "stdout",
     "output_type": "stream",
     "text": [
      "sum_list total is 169511126\n",
      "sum_list total is 169511126\n",
      "sum_list total is 169511126\n",
      "sum_list total is 169511126\n",
      "sum_list total is 169511126\n",
      "sum_list total is 169511126\n",
      "sum_list total is 169511126\n",
      "sum_list total is 169511126\n",
      "291 ms ± 17.9 ms per loop (mean ± std. dev. of 7 runs, 1 loop each)\n"
     ]
    }
   ],
   "source": [
    "%%timeit\n",
    "\n",
    "var1_array = df[\"var1\"].to_numpy()\n",
    "var2_array = df[\"var2\"].to_numpy()\n",
    "var3_array = df[\"var3\"].to_numpy()\n",
    "total_array = df[\"total\"].to_numpy()\n",
    "\n",
    "def filter_and_mult_total(a1, a2, a3, at, i, j, k):\n",
    "    return np.sum((np.where(a1 >= i, 1, 0) & np.where(a2 >= j, 1, 0) & np.where(a3 >= k, 1, 0)) * at)\n",
    "\n",
    "# partial application\n",
    "# necessary as ndarrays are not hashable\n",
    "filter_and_mult_total_partial = functools.partial(filter_and_mult_total, var1_array, var2_array, var3_array, total_array)\n",
    "\n",
    "# cache\n",
    "@functools.cache\n",
    "def filter_and_mult_total_cache(i, j, k):\n",
    "    filter_and_mult_total_partial(i, j, k)\n",
    "\n",
    "sum_list=[]\n",
    "\n",
    "for i in range(1, 100, 5):\n",
    "    for j in range(1, 100, 5):\n",
    "        for k in range(1, 100, 5):\n",
    "            sum_list.append(filter_and_mult_total_partial(i, j, k))\n",
    "\n",
    "print(f\"sum_list total is {sum(sum_list)}\")"
   ]
  },
  {
   "cell_type": "markdown",
   "metadata": {},
   "source": [
    "### Cache results of `where` statements\n",
    "Cache results of `where` statements rather than caching the function call\n",
    "\n",
    "Basically a form of [dynamic programming](https://en.wikipedia.org/wiki/Dynamic_programming) where we save intermediate results and just look them up if they already exist; Python dictionary lookups are fast"
   ]
  },
  {
   "cell_type": "code",
   "execution_count": 9,
   "metadata": {},
   "outputs": [
    {
     "name": "stdout",
     "output_type": "stream",
     "text": [
      "sum_list total is 169511126\n",
      "sum_list total is 169511126\n",
      "sum_list total is 169511126\n",
      "sum_list total is 169511126\n",
      "sum_list total is 169511126\n",
      "sum_list total is 169511126\n",
      "sum_list total is 169511126\n",
      "sum_list total is 169511126\n",
      "sum_list total is 169511126\n",
      "sum_list total is 169511126\n",
      "sum_list total is 169511126\n",
      "sum_list total is 169511126\n",
      "sum_list total is 169511126\n",
      "sum_list total is 169511126\n",
      "sum_list total is 169511126\n",
      "sum_list total is 169511126\n",
      "sum_list total is 169511126\n",
      "sum_list total is 169511126\n",
      "sum_list total is 169511126\n",
      "sum_list total is 169511126\n",
      "sum_list total is 169511126\n",
      "sum_list total is 169511126\n",
      "sum_list total is 169511126\n",
      "sum_list total is 169511126\n",
      "sum_list total is 169511126\n",
      "sum_list total is 169511126\n",
      "sum_list total is 169511126\n",
      "sum_list total is 169511126\n",
      "sum_list total is 169511126\n",
      "sum_list total is 169511126\n",
      "sum_list total is 169511126\n",
      "sum_list total is 169511126\n",
      "sum_list total is 169511126\n",
      "sum_list total is 169511126\n",
      "sum_list total is 169511126\n",
      "sum_list total is 169511126\n",
      "sum_list total is 169511126\n",
      "sum_list total is 169511126\n",
      "sum_list total is 169511126\n",
      "sum_list total is 169511126\n",
      "sum_list total is 169511126\n",
      "sum_list total is 169511126\n",
      "sum_list total is 169511126\n",
      "sum_list total is 169511126\n",
      "sum_list total is 169511126\n",
      "sum_list total is 169511126\n",
      "sum_list total is 169511126\n",
      "sum_list total is 169511126\n",
      "sum_list total is 169511126\n",
      "sum_list total is 169511126\n",
      "sum_list total is 169511126\n",
      "sum_list total is 169511126\n",
      "sum_list total is 169511126\n",
      "sum_list total is 169511126\n",
      "sum_list total is 169511126\n",
      "sum_list total is 169511126\n",
      "sum_list total is 169511126\n",
      "sum_list total is 169511126\n",
      "sum_list total is 169511126\n",
      "sum_list total is 169511126\n",
      "sum_list total is 169511126\n",
      "sum_list total is 169511126\n",
      "sum_list total is 169511126\n",
      "sum_list total is 169511126\n",
      "sum_list total is 169511126\n",
      "sum_list total is 169511126\n",
      "sum_list total is 169511126\n",
      "sum_list total is 169511126\n",
      "sum_list total is 169511126\n",
      "sum_list total is 169511126\n",
      "sum_list total is 169511126\n",
      "sum_list total is 169511126\n",
      "sum_list total is 169511126\n",
      "sum_list total is 169511126\n",
      "sum_list total is 169511126\n",
      "sum_list total is 169511126\n",
      "sum_list total is 169511126\n",
      "sum_list total is 169511126\n",
      "sum_list total is 169511126\n",
      "sum_list total is 169511126\n",
      "sum_list total is 169511126\n",
      "168 ms ± 11.4 ms per loop (mean ± std. dev. of 7 runs, 10 loops each)\n"
     ]
    }
   ],
   "source": [
    "%%timeit\n",
    "sum_list=[]\n",
    "\n",
    "var1_array = df[\"var1\"].to_numpy()\n",
    "var2_array = df[\"var2\"].to_numpy()\n",
    "var3_array = df[\"var3\"].to_numpy()\n",
    "total_array = df[\"total\"].to_numpy()\n",
    "\n",
    "i_dict = dict()\n",
    "j_dict = dict()\n",
    "k_dict = dict()\n",
    "\n",
    "for i in range(1, 100, 5):\n",
    "    # not technically caching but no need to recalculate if i is not changing\n",
    "    # setdefault returns...\n",
    "    #   - if key exists, return value\n",
    "    #   - if key does not exist, add to dictionary, and then return the 2nd argument\n",
    "    i_result = i_dict.setdefault(i, np.where(var1_array >= i, 1, 0))\n",
    "    for j in range(1, 100, 5):\n",
    "        j_result = j_dict.setdefault(j, np.where(var2_array >= j, 1, 0))\n",
    "        for k in range(1, 100, 5):\n",
    "            k_result = k_dict.setdefault(k, np.where(var3_array >= k, 1, 0))\n",
    "            sum_list.append(\n",
    "                np.sum(\n",
    "                    (i_result & j_result & k_result) * total_array\n",
    "                )\n",
    "            )\n",
    "\n",
    "print(f\"sum_list total is {sum(sum_list)}\")"
   ]
  }
 ],
 "metadata": {
  "interpreter": {
   "hash": "522a0589062f43eaa7ca608f0b27d94d4fc4f3124d5d7019eb3dbd7f9e31bd5a"
  },
  "kernelspec": {
   "display_name": "Python 3.10.4",
   "language": "python",
   "name": "python3"
  },
  "language_info": {
   "codemirror_mode": {
    "name": "ipython",
    "version": 3
   },
   "file_extension": ".py",
   "mimetype": "text/x-python",
   "name": "python",
   "nbconvert_exporter": "python",
   "pygments_lexer": "ipython3",
   "version": "3.10.4"
  },
  "orig_nbformat": 4
 },
 "nbformat": 4,
 "nbformat_minor": 2
}
